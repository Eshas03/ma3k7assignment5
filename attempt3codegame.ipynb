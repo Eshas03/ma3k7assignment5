{
 "cells": [
  {
   "cell_type": "code",
   "execution_count": 2,
   "id": "f2e89b1b-b894-4c2a-aa15-307f0d95acb2",
   "metadata": {
    "tags": []
   },
   "outputs": [
    {
     "name": "stdin",
     "output_type": "stream",
     "text": [
      "Enter the row and column for number 1 (e.g., '0 0' for top-left corner):  0 0 \n",
      "Enter the row and column for number 9 (e.g., '2 2' for bottom-right corner):  1 1\n"
     ]
    },
    {
     "name": "stdout",
     "output_type": "stream",
     "text": [
      "\n",
      "Generated Grid:\n",
      "1 | 0 | 0\n",
      "---------\n",
      "0 | 9 | 0\n",
      "---------\n",
      "0 | 0 | 0\n",
      "---------\n",
      "\n",
      "A path from 1 to 9 is not possible.\n"
     ]
    }
   ],
   "source": [
    "import random\n",
    "\n",
    "def print_grid(grid):\n",
    "    for row in grid:\n",
    "        print(\" | \".join(map(str, row)))\n",
    "        print(\"-\" * 9)\n",
    "\n",
    "def create_grid():\n",
    "    return [[0, 0, 0], [0, 0, 0], [0, 0, 0]]\n",
    "\n",
    "def generate_path(grid, start, end):\n",
    "    current_pos = start\n",
    "    visited = set()\n",
    "    visited.add(start)\n",
    "\n",
    "    while current_pos != end:\n",
    "        next_pos = None\n",
    "        # Check adjacent positions (horizontally or vertically)\n",
    "        for dx, dy in [(0, 1), (1, 0), (0, -1), (-1, 0)]:\n",
    "            next_x, next_y = current_pos[0] + dx, current_pos[1] + dy\n",
    "            if 0 <= next_x < 3 and 0 <= next_y < 3 and (next_x, next_y) not in visited and grid[next_x][next_y] != 0:\n",
    "                next_pos = (next_x, next_y)\n",
    "                visited.add(next_pos)\n",
    "                break\n",
    "\n",
    "        if next_pos:\n",
    "            current_pos = next_pos\n",
    "        else:\n",
    "            return False\n",
    "\n",
    "    return True\n",
    "\n",
    "def main():\n",
    "    grid = create_grid()\n",
    "    \n",
    "    # Choose positions for 1 and 9\n",
    "    start_pos = tuple(map(int, input(\"Enter the row and column for number 1 (e.g., '0 0' for top-left corner): \").split()))\n",
    "    end_pos = tuple(map(int, input(\"Enter the row and column for number 9 (e.g., '2 2' for bottom-right corner): \").split()))\n",
    "    \n",
    "    grid[start_pos[0]][start_pos[1]] = 1\n",
    "    grid[end_pos[0]][end_pos[1]] = 9\n",
    "\n",
    "    print(\"\\nGenerated Grid:\")\n",
    "    print_grid(grid)\n",
    "\n",
    "    # Generate path\n",
    "    if generate_path(grid, start_pos, end_pos):\n",
    "        print(\"\\nA path from 1 to 9 is possible!\")\n",
    "        print_grid(grid)\n",
    "    else:\n",
    "        print(\"\\nA path from 1 to 9 is not possible.\")\n",
    "\n",
    "if __name__ == \"__main__\":\n",
    "    main()\n"
   ]
  }
 ],
 "metadata": {
  "kernelspec": {
   "display_name": "Python 3 (ipykernel)",
   "language": "python",
   "name": "python3"
  },
  "language_info": {
   "codemirror_mode": {
    "name": "ipython",
    "version": 3
   },
   "file_extension": ".py",
   "mimetype": "text/x-python",
   "name": "python",
   "nbconvert_exporter": "python",
   "pygments_lexer": "ipython3",
   "version": "3.11.5"
  }
 },
 "nbformat": 4,
 "nbformat_minor": 5
}
